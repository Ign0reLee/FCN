{
 "cells": [
  {
   "cell_type": "code",
   "execution_count": 1,
   "metadata": {},
   "outputs": [],
   "source": [
    "import os, cv2\n",
    "import shutil\n",
    "import glob\n",
    "import random"
   ]
  },
  {
   "cell_type": "code",
   "execution_count": 2,
   "metadata": {},
   "outputs": [],
   "source": [
    "train = os.path.join(\"..\",\"Data\",\"VOC2012\",\"Train\")\n",
    "test  = os.path.join(\"..\", \"Data\", \"VOC2012\", \"Test\")\n",
    "\n",
    "if not os.path.exists(train):\n",
    "    os.mkdir(trian)\n",
    "if not os.path.exists(os.path.join(train,\"Image\")):\n",
    "    os.mkdir(os.path.join(train,\"Image\"))\n",
    "if not os.path.exists(os.path.join(train,\"Segmentationclass\")):\n",
    "    os.mkdir(os.path.join(train,\"Segmentationclass\"))\n",
    "if not os.path.exists(os.path.join(train,\"GroundTruth\")):\n",
    "    os.mkdir(os.path.join(train,\"GroundTruth\"))\n",
    "    \n",
    "if not os.path.exists(test):\n",
    "    os.mkdir(test)\n",
    "if not os.path.exists(os.path.join(test,\"Image\")):\n",
    "    os.mkdir(os.path.join(test,\"Image\"))\n",
    "if not os.path.exists(os.path.join(test,\"Segmentationclass\")):\n",
    "    os.mkdir(os.path.join(test,\"Segmentationclass\"))\n",
    "if not os.path.exists(os.path.join(test,\"GroundTruth\")):\n",
    "    os.mkdir(os.path.join(test,\"GroundTruth\"))"
   ]
  },
  {
   "cell_type": "code",
   "execution_count": 3,
   "metadata": {},
   "outputs": [],
   "source": [
    "path = os.path.join(\"..\",\"Data\",\"VOC2012\",\"SegmentationClass\")\n",
    "impath = os.path.join(\"..\",\"Data\",\"VOC2012\",\"JPEGImages\")\n",
    "names = os.listdir(path)\n",
    "tr_gt_path = os.path.join(train,\"Segmentationclass\")\n",
    "tr_img_path = os.path.join(train,\"Image\")\n",
    "te_gt_path = os.path.join(test,\"Segmentationclass\")\n",
    "te_img_path = os.path.join(test,\"Image\")"
   ]
  },
  {
   "cell_type": "code",
   "execution_count": 6,
   "metadata": {},
   "outputs": [],
   "source": [
    "batch = names\n",
    "random.shuffle(batch)\n",
    "\n",
    "length = int(len(batch)/10) * 8\n",
    "\n",
    "train_name = batch[:length]\n",
    "test_name = batch[length:]"
   ]
  },
  {
   "cell_type": "code",
   "execution_count": null,
   "metadata": {},
   "outputs": [],
   "source": [
    "\n",
    "for name in train_name:\n",
    "    imname = name.replace(\"png\",\"jpg\")\n",
    "    shutil.move(os.path.join(path, name), os.path.join(train,\"Segmentationclass\", name))\n",
    "    shutil.move(os.path.join(impath, imname), os.path.join(train,\"Image\",imsname))"
   ]
  }
 ],
 "metadata": {
  "kernelspec": {
   "display_name": "Python 3",
   "language": "python",
   "name": "python3"
  },
  "language_info": {
   "codemirror_mode": {
    "name": "ipython",
    "version": 3
   },
   "file_extension": ".py",
   "mimetype": "text/x-python",
   "name": "python",
   "nbconvert_exporter": "python",
   "pygments_lexer": "ipython3",
   "version": "3.6.10"
  }
 },
 "nbformat": 4,
 "nbformat_minor": 4
}
