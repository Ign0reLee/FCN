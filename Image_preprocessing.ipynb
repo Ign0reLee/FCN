{
 "cells": [
  {
   "cell_type": "code",
   "execution_count": 1,
   "metadata": {},
   "outputs": [
    {
     "data": {
      "application/vnd.jupyter.widget-view+json": {
       "model_id": "b29379b5f318426281e83a9141fffd36",
       "version_major": 2,
       "version_minor": 0
      },
      "text/plain": [
       "IntSlider(value=0)"
      ]
     },
     "metadata": {},
     "output_type": "display_data"
    }
   ],
   "source": [
    "import cv2\n",
    "import os,sys\n",
    "from tqdm import trange\n",
    "import numpy as np\n",
    "from ipywidgets import IntSlider\n",
    "IntSlider()"
   ]
  },
  {
   "cell_type": "code",
   "execution_count": 2,
   "metadata": {},
   "outputs": [],
   "source": [
    "def color_map(N=256, normalized=False):\n",
    "    def bitget(byteval, idx):\n",
    "        return ((byteval & (1 << idx)) != 0)\n",
    "\n",
    "    dtype = 'float32' if normalized else 'uint8'\n",
    "    cmap = np.zeros((N, 3), dtype=dtype)\n",
    "    for i in range(N):\n",
    "        r = g = b = 0\n",
    "        c = i\n",
    "        for j in range(8):\n",
    "            r = r | (bitget(c, 0) << 7-j)\n",
    "            g = g | (bitget(c, 1) << 7-j)\n",
    "            b = b | (bitget(c, 2) << 7-j)\n",
    "            c = c >> 3\n",
    "\n",
    "        cmap[i] = np.array([r, g, b])\n",
    "\n",
    "    cmap = cmap/255 if normalized else cmap\n",
    "    return cmap\n",
    "\n",
    "def color_map_viz():\n",
    "    labels = ['background', 'aeroplane', 'bicycle', 'bird', 'boat', 'bottle', 'bus', 'car', 'cat', 'chair', 'cow', 'diningtable', 'dog', 'horse', 'motorbike', 'person', 'pottedplant', 'sheep', 'sofa', 'train', 'tvmonitor', 'void']\n",
    "    nclasses = 21\n",
    "    cmap = color_map()\n",
    "    color_lists= {}\n",
    "    for i in range(nclasses):\n",
    "        color_lists[labels[i]] = list(cmap[i])\n",
    "    color_lists[labels[-1]] = list(cmap[-1])\n",
    "    \n",
    "    return  color_lists"
   ]
  },
  {
   "cell_type": "code",
   "execution_count": 3,
   "metadata": {},
   "outputs": [
    {
     "name": "stdout",
     "output_type": "stream",
     "text": [
      "{'background': [0, 0, 0], 'aeroplane': [128, 0, 0], 'bicycle': [0, 128, 0], 'bird': [128, 128, 0], 'boat': [0, 0, 128], 'bottle': [128, 0, 128], 'bus': [0, 128, 128], 'car': [128, 128, 128], 'cat': [64, 0, 0], 'chair': [192, 0, 0], 'cow': [64, 128, 0], 'diningtable': [192, 128, 0], 'dog': [64, 0, 128], 'horse': [192, 0, 128], 'motorbike': [64, 128, 128], 'person': [192, 128, 128], 'pottedplant': [0, 64, 0], 'sheep': [128, 64, 0], 'sofa': [0, 192, 0], 'train': [128, 192, 0], 'tvmonitor': [0, 64, 128], 'void': [224, 224, 192]}\n"
     ]
    }
   ],
   "source": [
    "example = color_map_viz()\n",
    "\n",
    "print(example)"
   ]
  },
  {
   "cell_type": "code",
   "execution_count": 4,
   "metadata": {},
   "outputs": [],
   "source": [
    "tr_gt_path = os.path.join(\"..\",\"Data\",\"VOC2012\",\"Train\",\"Segmentationclass\")\n",
    "tr_object_path = os.path.join(\"..\",\"Data\",\"VOC2012\",\"Train\",\"GroundTruth\")\n",
    "te_gt_path = os.path.join(\"..\",\"Data\",\"VOC2012\",\"Test\",\"Segmentationclass\")\n",
    "te_object_path = os.path.join(\"..\",\"Data\",\"VOC2012\",\"Test\",\"GroundTruth\")"
   ]
  },
  {
   "cell_type": "code",
   "execution_count": 5,
   "metadata": {},
   "outputs": [],
   "source": [
    "if not os.path.exists(tr_object_path): os.mkdir(tr_object_path)\n",
    "if not os.path.exists(te_object_path): os.mkdir(te_object_path)"
   ]
  },
  {
   "cell_type": "code",
   "execution_count": 6,
   "metadata": {},
   "outputs": [],
   "source": [
    "gt_list = os.listdir(tr_gt_path)\n",
    "te_list = os.listdir(te_gt_path)"
   ]
  },
  {
   "cell_type": "code",
   "execution_count": 8,
   "metadata": {
    "scrolled": true
   },
   "outputs": [
    {
     "name": "stderr",
     "output_type": "stream",
     "text": [
      "100%|██████████████████████████████████████████████████████████████████████████████| 2904/2904 [11:36<00:00,  4.17it/s]\n"
     ]
    }
   ],
   "source": [
    "for num in trange(len(gt_list)):\n",
    "\n",
    "    img = cv2.imread(os.path.join(tr_gt_path,gt_list[num]))\n",
    "\n",
    "    for a,i in enumerate(img):\n",
    "        for b,j in enumerate(i):\n",
    "            if list(j)[0] == example['void'][2] and list(j)[1] == example['void'][1] and list(j)[2] == example['void'][0]:\n",
    "                img[a,b,:] = 0\n",
    "                \n",
    "    cv2.imwrite(os.path.join(tr_object_path,gt_list[num].replace(\".png\", \".jpg\")), img)\n"
   ]
  },
  {
   "cell_type": "code",
   "execution_count": 10,
   "metadata": {},
   "outputs": [
    {
     "name": "stderr",
     "output_type": "stream",
     "text": [
      "100%|████████████████████████████████████████████████████████████████████████████████████| 9/9 [00:02<00:00,  4.26it/s]\n"
     ]
    }
   ],
   "source": [
    "for num in trange(len(te_list)):\n",
    "\n",
    "    img = cv2.imread(os.path.join(te_gt_path,te_list[num]))\n",
    "\n",
    "    for a,i in enumerate(img):\n",
    "        for b,j in enumerate(i):\n",
    "            if list(j)[0] == example['void'][2] and list(j)[1] == example['void'][1] and list(j)[2] == example['void'][0]:\n",
    "                img[a,b,:] = 0\n",
    "                \n",
    "    cv2.imwrite(os.path.join(te_object_path,te_list[num].replace(\".png\", \".jpg\")), img)"
   ]
  },
  {
   "cell_type": "code",
   "execution_count": 13,
   "metadata": {},
   "outputs": [
    {
     "name": "stdout",
     "output_type": "stream",
     "text": [
      "background\n",
      "aeroplane\n",
      "bicycle\n",
      "bird\n",
      "boat\n",
      "bottle\n",
      "bus\n",
      "car\n",
      "cat\n",
      "chair\n",
      "cow\n",
      "diningtable\n",
      "dog\n",
      "horse\n",
      "motorbike\n",
      "person\n",
      "pottedplant\n",
      "sheep\n",
      "sofa\n",
      "train\n",
      "tvmonitor\n",
      "void\n"
     ]
    }
   ],
   "source": [
    "for key in example:\n",
    "    print(key)"
   ]
  },
  {
   "cell_type": "code",
   "execution_count": 16,
   "metadata": {},
   "outputs": [],
   "source": [
    "f = open(os.path.join(\"..\",\"Data\",\"VOC2012\",\"labels.txt\"), 'w')\n",
    "for key in example:\n",
    "    f.write(key)\n",
    "    f.write(\" \")\n",
    "    f.write(str(example[key][0]))\n",
    "    f.write(\" \")\n",
    "    f.write(str(example[key][1]))\n",
    "    f.write(\" \")\n",
    "    f.write(str(example[key][2]))\n",
    "    f.write(\"\\n\")\n",
    "f.close()"
   ]
  }
 ],
 "metadata": {
  "kernelspec": {
   "display_name": "Python 3",
   "language": "python",
   "name": "python3"
  },
  "language_info": {
   "codemirror_mode": {
    "name": "ipython",
    "version": 3
   },
   "file_extension": ".py",
   "mimetype": "text/x-python",
   "name": "python",
   "nbconvert_exporter": "python",
   "pygments_lexer": "ipython3",
   "version": "3.6.8"
  }
 },
 "nbformat": 4,
 "nbformat_minor": 4
}
